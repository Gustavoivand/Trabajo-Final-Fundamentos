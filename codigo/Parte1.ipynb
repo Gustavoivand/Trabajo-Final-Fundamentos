{
 "cells": [
  {
   "cell_type": "markdown",
   "metadata": {},
   "source": [
    "Función que calcula el factorial"
   ]
  },
  {
   "cell_type": "code",
   "execution_count": 5,
   "metadata": {},
   "outputs": [
    {
     "data": {
      "text/plain": [
       "120"
      ]
     },
     "execution_count": 5,
     "metadata": {},
     "output_type": "execute_result"
    }
   ],
   "source": [
    "def Factorial(a):\n",
    "    if a==0:\n",
    "        return 1\n",
    "    else:\n",
    "        return a*Factorial(a-1)\n",
    "\n",
    "Factorial(5)"
   ]
  },
  {
   "cell_type": "markdown",
   "metadata": {},
   "source": [
    "Función que calcula el MCD"
   ]
  },
  {
   "cell_type": "code",
   "execution_count": 9,
   "metadata": {},
   "outputs": [
    {
     "data": {
      "text/plain": [
       "3"
      ]
     },
     "execution_count": 9,
     "metadata": {},
     "output_type": "execute_result"
    }
   ],
   "source": [
    "def MCD(a, b):\n",
    "    if b==0:\n",
    "        return a\n",
    "    else:\n",
    "        return MCD(b,a%b)\n"
   ]
  },
  {
   "cell_type": "code",
   "execution_count": 14,
   "metadata": {},
   "outputs": [
    {
     "name": "stdout",
     "output_type": "stream",
     "text": [
      "Nombre: Gustavo, Edad: 34\n"
     ]
    }
   ],
   "source": [
    "class Persona:\n",
    "    def __init__(self, nombre, edad):\n",
    "        self.nombre = nombre\n",
    "        self.edad = edad\n",
    "\n",
    "    def mostrar_datos(self):\n",
    "        print(f\"Nombre: {self.nombre}, Edad: {self.edad}\")\n",
    "\n",
    "# Création d'une instance de la classe Person\n",
    "person1 = Persona(\"Gustavo\", 34)\n",
    "\n",
    "# Affichage des données de la personne\n",
    "person1.mostrar_datos()\n",
    "\n"
   ]
  },
  {
   "cell_type": "code",
   "execution_count": 28,
   "metadata": {},
   "outputs": [
    {
     "name": "stdout",
     "output_type": "stream",
     "text": [
      "Numero de Cuenta: Gustavo, Dinero en cuenta: 79\n",
      "Numero de Cuenta: Gustavo, Dinero en cuenta: 59\n",
      "Numero de Cuenta: Gustavo, Dinero en cuenta: 39\n",
      "Saldo insuficiente para efectura retiro\n"
     ]
    }
   ],
   "source": [
    "class CuentaBancaria:\n",
    "    def __init__(self, NumeroCuenta, CantidadDePlatita):\n",
    "        self.NumeroCuenta = NumeroCuenta\n",
    "        self.CantidadDePlatita = CantidadDePlatita\n",
    "    def mostrar_datos(self):\n",
    "        print(f\"Numero de Cuenta: {self.NumeroCuenta}, Dinero en cuenta: {self.CantidadDePlatita}\")\n",
    "    def depositar(self,deposito):\n",
    "        self.CantidadDePlatita=self.CantidadDePlatita+deposito\n",
    "        self.mostrar_datos()\n",
    "    def retirar(self,retiro):\n",
    "        saldofinal=self.CantidadDePlatita-retiro\n",
    "        if (saldofinal<0):\n",
    "            print(\"Saldo insuficiente para efectura retiro\")\n",
    "        else:\n",
    "            self.CantidadDePlatita=saldofinal\n",
    "            self.mostrar_datos()\n",
    "# Création d'une instance de la classe Person\n",
    "Cuenta1 = CuentaBancaria(\"Gustavo\", 34)\n",
    "\n",
    "# Affichage des données de la personne\n",
    "Cuenta1.depositar(45)\n",
    "Cuenta1.retirar(20)\n",
    "Cuenta1.retirar(20)\n",
    "Cuenta1.retirar(45)"
   ]
  },
  {
   "cell_type": "markdown",
   "metadata": {},
   "source": []
  },
  {
   "cell_type": "code",
   "execution_count": 29,
   "metadata": {},
   "outputs": [
    {
     "name": "stdout",
     "output_type": "stream",
     "text": [
      "File 'sample_file.txt' created successfully!\n",
      "Content of 'sample_file.txt':\n",
      "Hello, this is a sample text file.\n",
      "New content appended to 'sample_file.txt' successfully!\n",
      "Content of 'sample_file.txt':\n",
      "Hello, this is a sample text file.This is additional content.\n",
      "\n"
     ]
    }
   ],
   "source": [
    "# Function to create a new text file\n",
    "def create_file(file_name, content):\n",
    "    with open(file_name, 'w') as file:\n",
    "        file.write(content)\n",
    "    print(f\"File '{file_name}' created successfully!\")\n",
    "\n",
    "# Function to read and display the content of a text file\n",
    "def read_file(file_name):\n",
    "    try:\n",
    "        with open(file_name, 'r') as file:\n",
    "            content = file.read()\n",
    "            print(f\"Content of '{file_name}':\")\n",
    "            print(content)\n",
    "    except FileNotFoundError:\n",
    "        print(f\"File '{file_name}' not found!\")\n",
    "\n",
    "# Function to append new content to an existing text file\n",
    "def append_to_file(file_name, new_content):\n",
    "    try:\n",
    "        with open(file_name, 'a') as file:\n",
    "            file.write(new_content + '\\n')\n",
    "        print(f\"New content appended to '{file_name}' successfully!\")\n",
    "    except FileNotFoundError:\n",
    "        print(f\"File '{file_name}' not found!\")\n",
    "\n",
    "# Main script execution\n",
    "if __name__ == \"__main__\":\n",
    "    # Create a new text file\n",
    "    file_name = 'sample_file.txt'\n",
    "    initial_content = \"Hello, this is a sample text file.\"\n",
    "    create_file(file_name, initial_content)\n",
    "\n",
    "    # Read and display the content of the file\n",
    "    read_file(file_name)\n",
    "\n",
    "    # Append new content to the file\n",
    "    new_content = \"This is additional content.\"\n",
    "    append_to_file(file_name, new_content)\n",
    "\n",
    "    # Read and display the updated content of the file\n",
    "    read_file(file_name)\n"
   ]
  }
 ],
 "metadata": {
  "kernelspec": {
   "display_name": "Python 3",
   "language": "python",
   "name": "python3"
  },
  "language_info": {
   "codemirror_mode": {
    "name": "ipython",
    "version": 3
   },
   "file_extension": ".py",
   "mimetype": "text/x-python",
   "name": "python",
   "nbconvert_exporter": "python",
   "pygments_lexer": "ipython3",
   "version": "3.12.2"
  }
 },
 "nbformat": 4,
 "nbformat_minor": 2
}
