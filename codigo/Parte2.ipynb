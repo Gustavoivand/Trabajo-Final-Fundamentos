{
 "cells": [
  {
   "cell_type": "code",
   "execution_count": 1,
   "metadata": {},
   "outputs": [],
   "source": [
    "import tkinter as tk\n",
    "from tkinter import messagebox\n",
    "def find_non_numerical_in_string(string):\n",
    "    non_numerical_positions = [(index, char) for index, char in enumerate(string) if not char.isdigit()]\n",
    "    return non_numerical_positions\n",
    "\n",
    "\n",
    "def calculate():\n",
    "    try:\n",
    "        cadena=entry0.get()\n",
    "        [(coordOperador,operation)] = find_non_numerical_in_string(cadena)\n",
    "        \n",
    "        num1=float(cadena[:(coordOperador)])\n",
    "       \n",
    "        num2=float(cadena[(coordOperador+1):])\n",
    "\n",
    "        if operation == '+':\n",
    "            result = num1 + num2\n",
    "        elif operation == '-':\n",
    "            result = num1 - num2\n",
    "        elif operation == '*':\n",
    "            result = num1 * num2\n",
    "        elif operation == '/':\n",
    "            result = num1 / num2\n",
    "        else:\n",
    "            raise ValueError(\"Invalid operation\")\n",
    "        result_label.config(text=f\"Result: {result}\")\n",
    "    except ValueError as e:\n",
    "        messagebox.showerror(\"Error\", str(e))\n",
    "\n",
    "\n",
    "root = tk.Tk()\n",
    "root.title(\"Simple Calculator\")\n",
    "\n",
    "entry0=tk.Entry(root)\n",
    "entry0.grid(row=0,column=1)\n",
    "\n",
    "\n",
    "label1 = tk.Label(root, text=\"Operacion:\")\n",
    "label1.grid(row=0, column=0)\n",
    "\n",
    "\n",
    "\n",
    "calc_button = tk.Button(root, text=\"Calcular\", command=calculate)\n",
    "calc_button.grid(row=3, column=1)\n",
    "\n",
    "\n",
    "result_label = tk.Label(root, text=\"Resultado: \")\n",
    "result_label.grid(row=4, column=1)\n",
    "\n",
    "\n",
    "root.mainloop()"
   ]
  }
 ],
 "metadata": {
  "kernelspec": {
   "display_name": "Python 3",
   "language": "python",
   "name": "python3"
  },
  "language_info": {
   "codemirror_mode": {
    "name": "ipython",
    "version": 3
   },
   "file_extension": ".py",
   "mimetype": "text/x-python",
   "name": "python",
   "nbconvert_exporter": "python",
   "pygments_lexer": "ipython3",
   "version": "3.12.2"
  }
 },
 "nbformat": 4,
 "nbformat_minor": 2
}
